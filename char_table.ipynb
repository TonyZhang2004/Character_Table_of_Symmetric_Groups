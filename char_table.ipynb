{
 "cells": [
  {
   "cell_type": "markdown",
   "metadata": {},
   "source": [
    "# Statistics of the Character Table of Symmetric Groups $S_n$"
   ]
  },
  {
   "cell_type": "markdown",
   "metadata": {},
   "source": [
    "In this Jupyter Notebook, we aim to study some properties of the character table of the symmetric group $S_n$."
   ]
  },
  {
   "cell_type": "code",
   "execution_count": null,
   "metadata": {},
   "outputs": [],
   "source": [
    "import pandas as pd\n",
    "import matplotlib.pyplot as plt\n",
    "import numpy as np\n",
    "import seaborn as sns\n",
    "from matplotlib.colors import LogNorm\n",
    "import frobenius as fb\n",
    "import murnaghan_nakayama as mn"
   ]
  },
  {
   "cell_type": "code",
   "execution_count": null,
   "metadata": {},
   "outputs": [],
   "source": [
    "def heatmap(n, character_table, partition_list):\n",
    "    def exp_label(partition):\n",
    "        res = \"(\"\n",
    "        for key in partition[0:len(partition)-1]:\n",
    "            res += \"{},\".format(key)\n",
    "        res += \"{})\".format(partition[len(partition) - 1])\n",
    "        return res\n",
    "\n",
    "    ylabel = [exp_label(partition) for partition in partition_list]\n",
    "    xlabel = [ylabel[i] for i in range(len(ylabel)-1, -1, -1)]\n",
    "\n",
    "    fig, ax = plt.subplots(figsize=(20, 8))\n",
    "    im = ax.imshow(character_table)\n",
    "\n",
    "    # Show all ticks and label them with the respective list entries\n",
    "    ax.set_xticks(np.arange(len(xlabel)), labels=xlabel)\n",
    "    ax.set_yticks(np.arange(len(ylabel)), labels=ylabel)\n",
    "    ax.tick_params(top=True, bottom=False,\n",
    "                   labeltop=True, labelbottom=False)\n",
    "\n",
    "    # Rotate the tick labels and set their alignment.\n",
    "    plt.setp(ax.get_xticklabels(), rotation=-45, ha=\"right\",\n",
    "             rotation_mode=\"anchor\")\n",
    "\n",
    "    # Loop over data dimensions and create text annotations.\n",
    "    for i in range(len(xlabel)):\n",
    "        for j in range(len(ylabel)):\n",
    "            text = ax.text(j, i, character_table[i][j],\n",
    "                           ha=\"center\", va=\"center\", color=\"w\")\n",
    "\n",
    "    ax.set_title(\"Character Table of S_{}\".format(n))\n",
    "    fig.tight_layout()\n",
    "    plt.show()\n",
    "\n",
    "\n",
    "def heatmap_wo_first_col(character_table):\n",
    "    pass"
   ]
  },
  {
   "cell_type": "markdown",
   "metadata": {},
   "source": [
    "## Frobenius Formula"
   ]
  },
  {
   "cell_type": "code",
   "execution_count": null,
   "metadata": {},
   "outputs": [],
   "source": [
    "n_fb = 6\n",
    "partition_list = fb.convert_dict_partitions_to_list(n_fb)\n",
    "character_table = fb.get_character_table(n_fb)\n",
    "heatmap(n_fb, character_table, partition_list)"
   ]
  },
  {
   "cell_type": "markdown",
   "metadata": {},
   "source": [
    "## Murnaghan-Nakayama Rule"
   ]
  },
  {
   "cell_type": "code",
   "execution_count": null,
   "metadata": {},
   "outputs": [],
   "source": [
    "n_mn = 6\n",
    "partition_list = fb.convert_dict_partitions_to_list(n_mn)   # TODO: make this util function\n",
    "character_table = mn.get_character_table(n_mn, memo_file_name=\"\")\n",
    "heatmap(n_mn, character_table, partition_list)"
   ]
  },
  {
   "cell_type": "markdown",
   "metadata": {},
   "source": [
    "## Other Code"
   ]
  },
  {
   "cell_type": "markdown",
   "metadata": {},
   "source": [
    "Now we study some character tables with bigger sizes.\n",
    "\n",
    "Modify the following macros to change the size of the character table as well as the threshold for the heatmap.\n",
    "\n",
    "Since the value for some entries are too big, in order to make the color look proportional, we can truncate the value and set up a threshold for the heatmap"
   ]
  },
  {
   "cell_type": "code",
   "execution_count": null,
   "metadata": {},
   "outputs": [],
   "source": [
    "SIZE = 10  # char table size\n",
    "# the maximum is THRESHOLD, the minimum is -THRESHOLD\n",
    "THRESHOLD = 10"
   ]
  },
  {
   "cell_type": "markdown",
   "metadata": {},
   "source": [
    "Files required:\n",
    "- char_{N}.csv"
   ]
  },
  {
   "cell_type": "code",
   "execution_count": null,
   "metadata": {},
   "outputs": [],
   "source": [
    "df = pd.read_csv(\"char_{}.csv\".format(SIZE))\n",
    "df_wo_first_column = df.iloc[1:, 1:]  # skip the first column\n",
    "data_array = df_wo_first_column.values\n",
    "data_array = np.clip(df_wo_first_column.values, -THRESHOLD, THRESHOLD)\n",
    "vmin, vmax = data_array.min(), data_array.max()\n",
    "fig, ax = plt.subplots(figsize=(20, 16))\n",
    "im = ax.imshow(data_array, cmap='coolwarm',\n",
    "               interpolation='nearest', vmin=vmin, vmax=vmax)\n",
    "ax.tick_params(axis='both', which='both', bottom=False, top=False,\n",
    "               left=False, right=False, labelbottom=False, labelleft=False)\n",
    "cbar = fig.colorbar(im)\n",
    "plt.xticks(range(len(df_wo_first_column.columns)), df_wo_first_column.columns)\n",
    "plt.yticks(range(len(df_wo_first_column.index)), df_wo_first_column.index)\n",
    "plt.xlabel('Conjugacy Classes')\n",
    "plt.ylabel('Irreps')\n",
    "plt.title('Char_Table of S_{}'.format(SIZE))\n",
    "plt.tick_params(axis='both', which='both', bottom=False, top=False,\n",
    "                left=False, right=False, labelbottom=False, labelleft=False)\n",
    "# Show the plot\n",
    "# column for triangular number\n",
    "plt.show()\n",
    "\n",
    "\n",
    "log_base = 10  # Change this to your desired base\n",
    "# Now we try log\n",
    "data_array = df_wo_first_column.values\n",
    "data_array = np.log(abs(data_array)) / np.log(log_base)\n",
    "vmin, vmax = data_array.min(), data_array.max()\n",
    "fig, ax = plt.subplots(figsize=(20, 16))\n",
    "im = ax.imshow(data_array, cmap='coolwarm',\n",
    "               interpolation='nearest', vmin=0, vmax=vmax)\n",
    "ax.tick_params(axis='both', which='both', bottom=False, top=False,\n",
    "               left=False, right=False, labelbottom=False, labelleft=False)\n",
    "cbar = fig.colorbar(im)\n",
    "plt.xticks(range(len(df_wo_first_column.columns)), df_wo_first_column.columns)\n",
    "plt.yticks(range(len(df_wo_first_column.index)), df_wo_first_column.index)\n",
    "plt.xlabel('Conjugacy Classes')\n",
    "plt.ylabel('Irreps')\n",
    "plt.title('Char_Table of S_{}, log_base_{}'.format(SIZE, log_base))\n",
    "plt.tick_params(axis='both', which='both', bottom=False, top=False,\n",
    "                left=False, right=False, labelbottom=False, labelleft=False)\n",
    "# Show the plot\n",
    "# column for triangular number\n",
    "plt.show()"
   ]
  },
  {
   "cell_type": "markdown",
   "metadata": {},
   "source": [
    "### Distribution of the first column\n",
    "\n",
    "Now we focus on the first column of the character table, note that they are all positive according to the hook length formula."
   ]
  },
  {
   "cell_type": "code",
   "execution_count": null,
   "metadata": {},
   "outputs": [],
   "source": [
    "first_column = df.iloc[:, 1]\n",
    "positions = range(len(first_column))\n",
    "values = first_column.values\n",
    "df2 = pd.DataFrame(values, columns=['Values'])\n",
    "print(df2)\n",
    "# Plot histogram with custom labels\n",
    "ax = df2.plot(kind='hist', edgecolor='black', bins=500,\n",
    "              linewidth=0.2, logx=True, figsize=(18, 12))\n",
    "# Customize labels and title\n",
    "# plt.subplots(figsize=(36, 24))\n",
    "plt.xlabel('Values')\n",
    "plt.ylabel('Count')\n",
    "plt.title('Character Values of the first column')\n",
    "# Show the plot\n",
    "plt.show()\n",
    "\n",
    "ax = df2.plot(kind='hist', edgecolor='black', bins=500,\n",
    "              linewidth=0.2, figsize=(18, 12))\n",
    "# Customize labels and title\n",
    "# plt.subplots(figsize=(36, 24))\n",
    "plt.xlabel('Values')\n",
    "plt.ylabel('Count')\n",
    "plt.title('Character Values of the first column')\n",
    "# Show the plot\n",
    "plt.show()"
   ]
  },
  {
   "cell_type": "markdown",
   "metadata": {},
   "source": [
    "### The Density of Zeros in the Character Table of $S_n$\n",
    "Now we study the number of zero entries in the character table of $S_n$ (it is recorded in OEIS with index [A006907](https://oeis.org/A006907))."
   ]
  },
  {
   "cell_type": "code",
   "execution_count": null,
   "metadata": {},
   "outputs": [],
   "source": [
    "num_of_zeros = [0, 0, 1, 4, 10, 29, 55, 153, 307, 588, 1018, 2230, 3543, 6878,\n",
    "                11216, 20615, 33355, 57980, 90194, 155176, 239327,\n",
    "                395473, 604113, 970294, 1453749, 2323476, 3425849,\n",
    "                5349414, 7905133, 11963861, 17521274, 26472001,\n",
    "                38054619, 56756488, 81683457, 119005220, 170498286,\n",
    "                247619748]\n",
    "\n",
    "num_of_partitions = [1, 2, 3, 5, 7, 11, 15, 22, 30, 42, 56, 77, 101, 135, 176, 231,\n",
    "                     297, 385, 490, 627, 792, 1002, 1255, 1575, 1958, 2436, 3010,\n",
    "                     3718, 4565, 5604, 6842, 8349, 10143, 12310, 14883, 17977,\n",
    "                     21637, 26015, 31185, 37338, 44583, 53174, 63261, 75175,\n",
    "                     89134, 105558, 124754, 147273, 173525]\n",
    "\n",
    "density_of_zeros = [num_of_zeros[i] /\n",
    "                    (num_of_partitions[i]**2) for i in range(38)]\n",
    "\n",
    "df = pd.DataFrame({'Values': num_of_zeros})\n",
    "fig, ax = plt.subplots(figsize=(10, 6))\n",
    "ax.vlines(x=df.index, ymin=0, ymax=df['Values'],\n",
    "          color='blue', alpha=0.7, linewidth=2)\n",
    "ax.scatter(x=df.index, y=df['Values'], color='red', s=50, alpha=0.7)\n",
    "ax.set_xticks(df.index)\n",
    "ax.set_xticklabels(df.index + 1)  # Assuming the data is 0-indexed\n",
    "ax.set_xlabel('n')\n",
    "ax.set_ylabel('# of zeros')\n",
    "ax.set_title(\n",
    "    'Number of Zero Entries in the Character Table of Symmetric Groups')\n",
    "plt.show()\n",
    "\n",
    "df2 = pd.DataFrame({'Values': density_of_zeros})\n",
    "fig2, ax2 = plt.subplots(figsize=(10, 6))\n",
    "ax2.vlines(x=df2.index, ymin=0,\n",
    "           ymax=df2['Values'], color='blue', alpha=0.7, linewidth=2)\n",
    "ax2.scatter(x=df2.index, y=df2['Values'], color='red', s=50, alpha=0.7)\n",
    "ax2.set_xticks(df2.index)\n",
    "ax2.set_xticklabels(df2.index + 1)\n",
    "ax2.set_xlabel('n')\n",
    "ax2.set_ylabel('density of zeros')\n",
    "ax2.set_title(\n",
    "    'Density of Zero Entries in the Character Table of Symmetric Groups')\n",
    "plt.show()"
   ]
  },
  {
   "cell_type": "markdown",
   "metadata": {},
   "source": [
    "### Distribution of Triangular Numbers \n",
    "Files required:\n",
    "- char_[N].csv"
   ]
  },
  {
   "cell_type": "code",
   "execution_count": null,
   "metadata": {},
   "outputs": [],
   "source": [
    "triangular_numbers_index = {\n",
    "    10: 19,  # 21 - 1 - 1\n",
    "    15: 73,  # 75 - 1 - 1\n",
    "}\n",
    "N = 10\n",
    "df = pd.read_csv(\"char_{}.csv\".format(N))\n",
    "first_column = df.iloc[1:, triangular_numbers_index[N]]\n",
    "positions = range(len(first_column))\n",
    "values = first_column.values\n",
    "df2 = pd.DataFrame(values, columns=[\"Values\"])\n",
    "print(df2)\n",
    "# Plot histogram with custom labels\n",
    "ax = df2.plot(\n",
    "    kind=\"hist\", edgecolor=\"black\", bins=500, linewidth=0.2, logx=True, figsize=(18, 12)\n",
    ")\n",
    "# Customize labels and title\n",
    "# plt.subplots(figsize=(36, 24))\n",
    "plt.xlabel(\"Values\")\n",
    "plt.ylabel(\"Count\")\n",
    "plt.title(\"Character Values of the first column\")\n",
    "# Show the plot\n",
    "plt.show()\n",
    "\n",
    "ax = df2.plot(kind=\"hist\", edgecolor=\"black\", bins=500,\n",
    "              linewidth=0.2, figsize=(18, 12))\n",
    "# Customize labels and title\n",
    "# plt.subplots(figsize=(36, 24))\n",
    "plt.xlabel(\"Values\")\n",
    "plt.ylabel(\"Count\")\n",
    "plt.title(\"Character Values of the first column\")\n",
    "# Show the plot\n",
    "plt.show()"
   ]
  },
  {
   "cell_type": "markdown",
   "metadata": {},
   "source": [
    "### Plotting No. and Density of Zeroes in Staircase Partitions\n",
    "File required:\n",
    " - S[N]_staircase.csv"
   ]
  },
  {
   "cell_type": "code",
   "execution_count": null,
   "metadata": {},
   "outputs": [],
   "source": [
    "x_axis = [1, 3, 6, 10, 15, 21, 28, 36, 45, 55, 66]\n",
    "n = 1\n",
    "density_of_zeroes = []\n",
    "no_zeroes_list = []\n",
    "even_list = []\n",
    "density_of_even = []\n",
    "for N in x_axis:\n",
    "    df = pd.read_csv(\"S{}_staircase.csv\".format(N), header=None)\n",
    "    # print(df)\n",
    "    no_zeroes = (df == 0).sum().sum()\n",
    "    even_entries = (df % 2 == 0).sum().sum()\n",
    "    even_list.append(even_entries)\n",
    "    density_of_even.append(even_entries / len(df.values))\n",
    "    no_zeroes_list.append(no_zeroes)\n",
    "    density_of_zeroes.append(no_zeroes / len(df.values))\n",
    "    n += 1\n",
    "\n",
    "plt.scatter(x_axis, no_zeroes_list)\n",
    "plt.xlabel(\"Character Table of Sn\")\n",
    "plt.ylabel(\"No. of Zeroes\")\n",
    "plt.title(\"No. of Zeroes in Staircase Partitions\")\n",
    "plt.show()\n",
    "\n",
    "plt.scatter(x_axis, density_of_zeroes)\n",
    "plt.xlabel(\"Character Table of Sn\")\n",
    "plt.ylabel(\"Density of Zeroes\")\n",
    "plt.title(\"Density of Zeroes in Staircase Partitions\")\n",
    "plt.show()\n",
    "\n",
    "plt.scatter(x_axis, even_list)\n",
    "plt.xlabel(\"Character Table of Sn\")\n",
    "plt.ylabel(\"No. of Even Entries\")\n",
    "plt.title(\"No. of Even Entries in Staircase Partitions\")\n",
    "plt.show()\n",
    "\n",
    "plt.scatter(x_axis, density_of_even)\n",
    "plt.xlabel(\"Character Table of Sn\")\n",
    "plt.ylabel(\"Density of Even Entries\")\n",
    "plt.title(\"Density of Even Entries in Staircase Partitions\")\n",
    "plt.show()"
   ]
  },
  {
   "cell_type": "markdown",
   "metadata": {},
   "source": [
    "### Plotting No. and Density of Zeroes in Square Partitions\n",
    "File required:\n",
    " - S[N]_staircase.csv"
   ]
  },
  {
   "cell_type": "code",
   "execution_count": null,
   "metadata": {},
   "outputs": [],
   "source": [
    "x_axis = [1, 4, 9, 16, 25, 36, 49, 64]\n",
    "n = 1\n",
    "density_of_zeroes = []\n",
    "no_zeroes_list = []\n",
    "even_list = []\n",
    "density_of_even = []\n",
    "for N in x_axis:\n",
    "    df = pd.read_csv(\"S{}_square.csv\".format(N), header=None)\n",
    "    no_zeroes = (df == 0).sum().sum()\n",
    "    even_entries = (df % 2 == 0).sum().sum()\n",
    "    even_list.append(even_entries)\n",
    "    density_of_even.append(even_entries / len(df.values))\n",
    "    no_zeroes_list.append(no_zeroes)\n",
    "    density_of_zeroes.append(no_zeroes / len(df.values))\n",
    "    n += 1\n",
    "\n",
    "plt.scatter(x_axis, no_zeroes_list)\n",
    "plt.xlabel(\"Character Table of Sn\")\n",
    "plt.ylabel(\"No. of Zeroes\")\n",
    "plt.title(\"No. of Zeroes in Square Partitions\")\n",
    "plt.show()\n",
    "\n",
    "plt.scatter(x_axis, density_of_zeroes)\n",
    "plt.xlabel(\"Character Table of Sn\")\n",
    "plt.ylabel(\"Density of Zeroes\")\n",
    "plt.title(\"Density of Zeroes in Square Partitions\")\n",
    "plt.show()\n",
    "\n",
    "plt.scatter(x_axis, even_list)\n",
    "plt.xlabel(\"Character Table of Sn\")\n",
    "plt.ylabel(\"No. of Even Entries\")\n",
    "plt.title(\"No. of Even Entries in Square Partitions\")\n",
    "plt.show()\n",
    "\n",
    "plt.scatter(x_axis, density_of_even)\n",
    "plt.xlabel(\"Character Table of Sn\")\n",
    "plt.ylabel(\"Density of Even Entries\")\n",
    "plt.title(\"Density of Even Entries in Square Partitions\")\n",
    "plt.show()"
   ]
  }
 ],
 "metadata": {
  "kernelspec": {
   "display_name": "base",
   "language": "python",
   "name": "python3"
  },
  "language_info": {
   "codemirror_mode": {
    "name": "ipython",
    "version": 3
   },
   "file_extension": ".py",
   "mimetype": "text/x-python",
   "name": "python",
   "nbconvert_exporter": "python",
   "pygments_lexer": "ipython3",
   "version": "3.12.1"
  }
 },
 "nbformat": 4,
 "nbformat_minor": 2
}
